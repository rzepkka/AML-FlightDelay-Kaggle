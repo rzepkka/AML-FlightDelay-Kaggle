{
 "cells": [
  {
   "cell_type": "code",
   "execution_count": 18,
   "metadata": {},
   "outputs": [],
   "source": [
    "import datetime, warnings, scipy\n",
    "from datetime import datetime, timedelta\n",
    "import pandas as pd\n",
    "import numpy as np\n",
    "import seaborn as sns\n",
    "import matplotlib as mpl\n",
    "import matplotlib.pyplot as plt\n",
    "import matplotlib.patches as patches\n",
    "from matplotlib.patches import ConnectionPatch\n",
    "from collections import OrderedDict\n",
    "from matplotlib.gridspec import GridSpec\n",
    "#from mpl_toolkits.basemap import Basemap\n",
    "from sklearn import metrics, linear_model\n",
    "from sklearn.preprocessing import PolynomialFeatures, StandardScaler\n",
    "from sklearn.preprocessing import LabelEncoder, OneHotEncoder\n",
    "from sklearn.model_selection import train_test_split, cross_val_score, cross_val_predict\n",
    "from scipy.optimize import curve_fit\n",
    "plt.rcParams[\"patch.force_edgecolor\"] = True\n",
    "plt.style.use('fivethirtyeight')\n",
    "mpl.rc('patch', edgecolor = 'dimgray', linewidth=1)\n",
    "from IPython.core.interactiveshell import InteractiveShell\n",
    "InteractiveShell.ast_node_interactivity = \"last_expr\"\n",
    "pd.options.display.max_columns = 50\n",
    "%matplotlib inline\n",
    "warnings.filterwarnings(\"ignore\")"
   ]
  },
  {
   "cell_type": "code",
   "execution_count": 20,
   "metadata": {},
   "outputs": [],
   "source": [
    "### Preprocess\n",
    "\n",
    "flights_train = pd.read_csv('Data/flights_train.csv', index_col=0)\n",
    "flights_test = pd.read_csv('Data/flights_test.csv', index_col=0)\n",
    "\n",
    "airlines = pd.read_csv('Data/airlines.csv', index_col=0)\n",
    "airports = pd.read_csv('Data/airports.csv', index_col=0)"
   ]
  },
  {
   "cell_type": "code",
   "execution_count": 21,
   "metadata": {},
   "outputs": [],
   "source": [
    "def conv_to_time(column):\n",
    "    s = column.astype(int).astype(str).str.zfill(4)\n",
    "    #add : twice\n",
    "    column = s.str[:2] + ':' + s.str[2:] + ':00'\n",
    "    \n",
    "    return column"
   ]
  },
  {
   "cell_type": "code",
   "execution_count": 22,
   "metadata": {},
   "outputs": [],
   "source": [
    "def add_dep_delay(scheduled,depart):\n",
    "    \n",
    "    tdelta = []\n",
    "    FMT = '%H:%M:%S'\n",
    "\n",
    "    for i in range(0,len(scheduled)):\n",
    "        tdelta.append(datetime.strptime(depart.iloc[i], FMT) -\n",
    "                      datetime.strptime(scheduled.iloc[i], FMT))\n",
    "\n",
    "\n",
    "    for i in range(0,len(tdelta)):\n",
    "        if (scheduled.iloc[i].startswith(\"00\") & depart.iloc[i].startswith(\"23\"))== True:\n",
    "            tdelta[i] = timedelta(\n",
    "            days=tdelta[i].days,\n",
    "            seconds= tdelta[i].seconds - 24*60*60,\n",
    "            microseconds=tdelta[i].microseconds\n",
    "        )\n",
    "        elif (scheduled.iloc[i].startswith(\"23\") & depart.iloc[i].startswith(\"0\"))==True:\n",
    "            tdelta[i] = timedelta(\n",
    "            days=0,\n",
    "            seconds= tdelta[i].seconds,\n",
    "            microseconds=tdelta[i].microseconds\n",
    "        )\n",
    "        if tdelta[i].days < 0:\n",
    "            tdelta[i] = (tdelta[i].seconds - 24*60*60)/60\n",
    "        else:\n",
    "            tdelta[i] = (tdelta[i].seconds)/60\n",
    "\n",
    "    return tdelta"
   ]
  },
  {
   "cell_type": "code",
   "execution_count": 23,
   "metadata": {},
   "outputs": [
    {
     "data": {
      "text/html": [
       "<div>\n",
       "<style scoped>\n",
       "    .dataframe tbody tr th:only-of-type {\n",
       "        vertical-align: middle;\n",
       "    }\n",
       "\n",
       "    .dataframe tbody tr th {\n",
       "        vertical-align: top;\n",
       "    }\n",
       "\n",
       "    .dataframe thead th {\n",
       "        text-align: right;\n",
       "    }\n",
       "</style>\n",
       "<table border=\"1\" class=\"dataframe\">\n",
       "  <thead>\n",
       "    <tr style=\"text-align: right;\">\n",
       "      <th></th>\n",
       "      <th>YEAR</th>\n",
       "      <th>MONTH</th>\n",
       "      <th>DAY</th>\n",
       "      <th>DAY_OF_WEEK</th>\n",
       "      <th>AIRLINE</th>\n",
       "      <th>FLIGHT_NUMBER</th>\n",
       "      <th>TAIL_NUMBER</th>\n",
       "      <th>ORIGIN_AIRPORT</th>\n",
       "      <th>DESTINATION_AIRPORT</th>\n",
       "      <th>SCHEDULED_DEPARTURE</th>\n",
       "      <th>DEPARTURE_TIME</th>\n",
       "      <th>TAXI_OUT</th>\n",
       "      <th>WHEELS_OFF</th>\n",
       "      <th>SCHEDULED_TIME</th>\n",
       "      <th>DISTANCE</th>\n",
       "      <th>SCHEDULED_ARRIVAL</th>\n",
       "      <th>ARRIVAL_DELAY</th>\n",
       "      <th>DEPARTURE_TIME1</th>\n",
       "      <th>SCHEDULED_DEPARTURE1</th>\n",
       "      <th>DEPARTURE_DELAY</th>\n",
       "    </tr>\n",
       "    <tr>\n",
       "      <th>id</th>\n",
       "      <th></th>\n",
       "      <th></th>\n",
       "      <th></th>\n",
       "      <th></th>\n",
       "      <th></th>\n",
       "      <th></th>\n",
       "      <th></th>\n",
       "      <th></th>\n",
       "      <th></th>\n",
       "      <th></th>\n",
       "      <th></th>\n",
       "      <th></th>\n",
       "      <th></th>\n",
       "      <th></th>\n",
       "      <th></th>\n",
       "      <th></th>\n",
       "      <th></th>\n",
       "      <th></th>\n",
       "      <th></th>\n",
       "      <th></th>\n",
       "    </tr>\n",
       "  </thead>\n",
       "  <tbody>\n",
       "    <tr>\n",
       "      <th>0</th>\n",
       "      <td>2015</td>\n",
       "      <td>1</td>\n",
       "      <td>1</td>\n",
       "      <td>4</td>\n",
       "      <td>AS</td>\n",
       "      <td>98</td>\n",
       "      <td>N407AS</td>\n",
       "      <td>ANC</td>\n",
       "      <td>SEA</td>\n",
       "      <td>5</td>\n",
       "      <td>2354.0</td>\n",
       "      <td>21.0</td>\n",
       "      <td>15.0</td>\n",
       "      <td>205.0</td>\n",
       "      <td>1448</td>\n",
       "      <td>430</td>\n",
       "      <td>-22.0</td>\n",
       "      <td>23:54:00</td>\n",
       "      <td>00:05:00</td>\n",
       "      <td>-11.0</td>\n",
       "    </tr>\n",
       "    <tr>\n",
       "      <th>1</th>\n",
       "      <td>2015</td>\n",
       "      <td>1</td>\n",
       "      <td>1</td>\n",
       "      <td>4</td>\n",
       "      <td>AA</td>\n",
       "      <td>2336</td>\n",
       "      <td>N3KUAA</td>\n",
       "      <td>LAX</td>\n",
       "      <td>PBI</td>\n",
       "      <td>10</td>\n",
       "      <td>2.0</td>\n",
       "      <td>12.0</td>\n",
       "      <td>14.0</td>\n",
       "      <td>280.0</td>\n",
       "      <td>2330</td>\n",
       "      <td>750</td>\n",
       "      <td>-9.0</td>\n",
       "      <td>00:02:00</td>\n",
       "      <td>00:10:00</td>\n",
       "      <td>-8.0</td>\n",
       "    </tr>\n",
       "    <tr>\n",
       "      <th>2</th>\n",
       "      <td>2015</td>\n",
       "      <td>1</td>\n",
       "      <td>1</td>\n",
       "      <td>4</td>\n",
       "      <td>US</td>\n",
       "      <td>840</td>\n",
       "      <td>N171US</td>\n",
       "      <td>SFO</td>\n",
       "      <td>CLT</td>\n",
       "      <td>20</td>\n",
       "      <td>18.0</td>\n",
       "      <td>16.0</td>\n",
       "      <td>34.0</td>\n",
       "      <td>286.0</td>\n",
       "      <td>2296</td>\n",
       "      <td>806</td>\n",
       "      <td>5.0</td>\n",
       "      <td>00:18:00</td>\n",
       "      <td>00:20:00</td>\n",
       "      <td>-2.0</td>\n",
       "    </tr>\n",
       "    <tr>\n",
       "      <th>3</th>\n",
       "      <td>2015</td>\n",
       "      <td>1</td>\n",
       "      <td>1</td>\n",
       "      <td>4</td>\n",
       "      <td>AA</td>\n",
       "      <td>258</td>\n",
       "      <td>N3HYAA</td>\n",
       "      <td>LAX</td>\n",
       "      <td>MIA</td>\n",
       "      <td>20</td>\n",
       "      <td>15.0</td>\n",
       "      <td>15.0</td>\n",
       "      <td>30.0</td>\n",
       "      <td>285.0</td>\n",
       "      <td>2342</td>\n",
       "      <td>805</td>\n",
       "      <td>-9.0</td>\n",
       "      <td>00:15:00</td>\n",
       "      <td>00:20:00</td>\n",
       "      <td>-5.0</td>\n",
       "    </tr>\n",
       "    <tr>\n",
       "      <th>4</th>\n",
       "      <td>2015</td>\n",
       "      <td>1</td>\n",
       "      <td>1</td>\n",
       "      <td>4</td>\n",
       "      <td>AS</td>\n",
       "      <td>135</td>\n",
       "      <td>N527AS</td>\n",
       "      <td>SEA</td>\n",
       "      <td>ANC</td>\n",
       "      <td>25</td>\n",
       "      <td>24.0</td>\n",
       "      <td>11.0</td>\n",
       "      <td>35.0</td>\n",
       "      <td>235.0</td>\n",
       "      <td>1448</td>\n",
       "      <td>320</td>\n",
       "      <td>-21.0</td>\n",
       "      <td>00:24:00</td>\n",
       "      <td>00:25:00</td>\n",
       "      <td>-1.0</td>\n",
       "    </tr>\n",
       "  </tbody>\n",
       "</table>\n",
       "</div>"
      ],
      "text/plain": [
       "    YEAR  MONTH  DAY  DAY_OF_WEEK AIRLINE  FLIGHT_NUMBER TAIL_NUMBER  \\\n",
       "id                                                                     \n",
       "0   2015      1    1            4      AS             98      N407AS   \n",
       "1   2015      1    1            4      AA           2336      N3KUAA   \n",
       "2   2015      1    1            4      US            840      N171US   \n",
       "3   2015      1    1            4      AA            258      N3HYAA   \n",
       "4   2015      1    1            4      AS            135      N527AS   \n",
       "\n",
       "   ORIGIN_AIRPORT DESTINATION_AIRPORT  SCHEDULED_DEPARTURE  DEPARTURE_TIME  \\\n",
       "id                                                                           \n",
       "0             ANC                 SEA                    5          2354.0   \n",
       "1             LAX                 PBI                   10             2.0   \n",
       "2             SFO                 CLT                   20            18.0   \n",
       "3             LAX                 MIA                   20            15.0   \n",
       "4             SEA                 ANC                   25            24.0   \n",
       "\n",
       "    TAXI_OUT  WHEELS_OFF  SCHEDULED_TIME  DISTANCE  SCHEDULED_ARRIVAL  \\\n",
       "id                                                                      \n",
       "0       21.0        15.0           205.0      1448                430   \n",
       "1       12.0        14.0           280.0      2330                750   \n",
       "2       16.0        34.0           286.0      2296                806   \n",
       "3       15.0        30.0           285.0      2342                805   \n",
       "4       11.0        35.0           235.0      1448                320   \n",
       "\n",
       "    ARRIVAL_DELAY DEPARTURE_TIME1 SCHEDULED_DEPARTURE1  DEPARTURE_DELAY  \n",
       "id                                                                       \n",
       "0           -22.0        23:54:00             00:05:00            -11.0  \n",
       "1            -9.0        00:02:00             00:10:00             -8.0  \n",
       "2             5.0        00:18:00             00:20:00             -2.0  \n",
       "3            -9.0        00:15:00             00:20:00             -5.0  \n",
       "4           -21.0        00:24:00             00:25:00             -1.0  "
      ]
     },
     "execution_count": 23,
     "metadata": {},
     "output_type": "execute_result"
    }
   ],
   "source": [
    "flights_train[\"DEPARTURE_TIME1\"]  = conv_to_time(flights_train[\"DEPARTURE_TIME\"])\n",
    "flights_train[\"SCHEDULED_DEPARTURE1\"]  = conv_to_time(flights_train[\"SCHEDULED_DEPARTURE\"])\n",
    "\n",
    "flights_train[\"DEPARTURE_TIME1\"] = flights_train[\"DEPARTURE_TIME1\"].replace('24:00:00','00:00:00')\n",
    "\n",
    "flights_train[\"DEPARTURE_DELAY\"] = add_dep_delay(flights_train[\"SCHEDULED_DEPARTURE1\"],flights_train[\"DEPARTURE_TIME1\"])\n",
    "\n",
    "flights_train.head()"
   ]
  },
  {
   "cell_type": "code",
   "execution_count": 24,
   "metadata": {},
   "outputs": [],
   "source": [
    "flights_test[\"DEPARTURE_TIME1\"]  = conv_to_time(flights_test[\"DEPARTURE_TIME\"])\n",
    "flights_test[\"SCHEDULED_DEPARTURE1\"]  = conv_to_time(flights_test[\"SCHEDULED_DEPARTURE\"])\n",
    "\n",
    "flights_test[\"DEPARTURE_TIME1\"] = flights_test[\"DEPARTURE_TIME1\"].replace('24:00:00','00:00:00')\n",
    "\n",
    "flights_test[\"DEPARTURE_DELAY\"] = add_dep_delay(flights_test[\"SCHEDULED_DEPARTURE1\"],flights_test[\"DEPARTURE_TIME1\"])"
   ]
  },
  {
   "cell_type": "markdown",
   "metadata": {},
   "source": [
    "#### Save pickle"
   ]
  },
  {
   "cell_type": "code",
   "execution_count": 26,
   "metadata": {},
   "outputs": [],
   "source": [
    "flights_train.to_pickle('flights_train.pickle')"
   ]
  },
  {
   "cell_type": "code",
   "execution_count": 27,
   "metadata": {},
   "outputs": [],
   "source": [
    "flights_test.to_pickle('flights_test.pickle')"
   ]
  },
  {
   "cell_type": "markdown",
   "metadata": {},
   "source": [
    "#### Read pickle"
   ]
  },
  {
   "cell_type": "code",
   "execution_count": null,
   "metadata": {},
   "outputs": [],
   "source": [
    "flights_train = pd.read_pickle('flights_train.pickle')"
   ]
  },
  {
   "cell_type": "code",
   "execution_count": null,
   "metadata": {},
   "outputs": [],
   "source": [
    "flights_test = pd.read_pickle('flights_test.pickle')"
   ]
  },
  {
   "cell_type": "markdown",
   "metadata": {},
   "source": [
    "## Correlation departure/arrival delays"
   ]
  },
  {
   "cell_type": "code",
   "execution_count": 29,
   "metadata": {},
   "outputs": [],
   "source": [
    "train_set = flights_train"
   ]
  },
  {
   "cell_type": "code",
   "execution_count": 30,
   "metadata": {},
   "outputs": [
    {
     "data": {
      "text/plain": [
       "<AxesSubplot:xlabel='DEPARTURE_DELAY', ylabel='ARRIVAL_DELAY'>"
      ]
     },
     "execution_count": 30,
     "metadata": {},
     "output_type": "execute_result"
    },
    {
     "data": {
      "image/png": "[encoded data removed]",
      "text/plain": [
       "<Figure size 432x288 with 1 Axes>"
      ]
     },
     "metadata": {
      "needs_background": "light"
     },
     "output_type": "display_data"
    }
   ],
   "source": [
    "train_set.plot.scatter(\n",
    "    x=\"DEPARTURE_DELAY\", \n",
    "    y=\"ARRIVAL_DELAY\"\n",
    ")"
   ]
  },
  {
   "cell_type": "code",
   "execution_count": 96,
   "metadata": {},
   "outputs": [],
   "source": [
    "DEPARTURE_DELAY_pos = train_set[train_set['DEPARTURE_DELAY'] >= -100]\n",
    "DEPARTURE_DELAY_pos = DEPARTURE_DELAY_pos[DEPARTURE_DELAY_pos['ARRIVAL_DELAY'] < 1200]\n",
    "\n",
    "DEPARTURE_DELAY_neg = train_set[train_set['DEPARTURE_DELAY'] < -100]\n",
    "DEPARTURE_DELAY_neg = DEPARTURE_DELAY_neg[DEPARTURE_DELAY_neg['ARRIVAL_DELAY'] > 210]"
   ]
  },
  {
   "cell_type": "code",
   "execution_count": 97,
   "metadata": {},
   "outputs": [
    {
     "data": {
      "text/plain": [
       "<AxesSubplot:xlabel='DEPARTURE_DELAY', ylabel='ARRIVAL_DELAY'>"
      ]
     },
     "execution_count": 97,
     "metadata": {},
     "output_type": "execute_result"
    },
    {
     "data": {
      "image/png": "[encoded data removed]",
      "text/plain": [
       "<Figure size 432x288 with 1 Axes>"
      ]
     },
     "metadata": {
      "needs_background": "light"
     },
     "output_type": "display_data"
    },
    {
     "data": {
      "image/png": "[encoded data removed]",
      "text/plain": [
       "<Figure size 432x288 with 1 Axes>"
      ]
     },
     "metadata": {
      "needs_background": "light"
     },
     "output_type": "display_data"
    }
   ],
   "source": [
    "DEPARTURE_DELAY_pos.plot.scatter(\n",
    "    x=\"DEPARTURE_DELAY\", \n",
    "    y=\"ARRIVAL_DELAY\"\n",
    ")\n",
    "\n",
    "DEPARTURE_DELAY_neg.plot.scatter(\n",
    "    x=\"DEPARTURE_DELAY\", \n",
    "    y=\"ARRIVAL_DELAY\"\n",
    ")\n"
   ]
  },
  {
   "cell_type": "code",
   "execution_count": 98,
   "metadata": {},
   "outputs": [],
   "source": [
    "from sklearn.linear_model import LinearRegression"
   ]
  },
  {
   "cell_type": "code",
   "execution_count": 99,
   "metadata": {},
   "outputs": [
    {
     "name": "stdout",
     "output_type": "stream",
     "text": [
      "coefficient of determination: 0.8777586688871325\n",
      "intercept: -4.388372521216417\n",
      "slope: 1.010119953283392\n"
     ]
    }
   ],
   "source": [
    "model_lin = LinearRegression()\n",
    "\n",
    "x_pos = np.array(DEPARTURE_DELAY_pos['DEPARTURE_DELAY']).reshape(-1, 1)\n",
    "y_pos = np.array(DEPARTURE_DELAY_pos['ARRIVAL_DELAY']).reshape(-1, 1)\n",
    "model_pos = model_lin.fit(x_pos, y_pos)\n",
    "\n",
    "r_sq_pos = model_pos.score(x_pos, y_pos)\n",
    "print('coefficient of determination:', r_sq_pos)\n",
    "print('intercept:', model_pos.intercept_[0])\n",
    "print('slope:', model_pos.coef_[0][0])"
   ]
  },
  {
   "cell_type": "code",
   "execution_count": 100,
   "metadata": {},
   "outputs": [
    {
     "name": "stdout",
     "output_type": "stream",
     "text": [
      "coefficient of determination: 0.9950897504396532\n",
      "intercept: 1440.7279236010413\n",
      "slope: 1.0068662405614168\n"
     ]
    }
   ],
   "source": [
    "model_lin = LinearRegression()\n",
    "\n",
    "x_neg = np.array(DEPARTURE_DELAY_neg['DEPARTURE_DELAY']).reshape(-1, 1)\n",
    "y_neg = np.array(DEPARTURE_DELAY_neg['ARRIVAL_DELAY']).reshape(-1, 1)\n",
    "model_neg = model_lin.fit(x_neg, y_neg)\n",
    "\n",
    "r_sq_neg = model_neg.score(x_neg, y_neg)\n",
    "print('coefficient of determination:', r_sq_neg)\n",
    "print('intercept:', model_neg.intercept_[0])\n",
    "print('slope:', model_neg.coef_[0][0])"
   ]
  },
  {
   "cell_type": "markdown",
   "metadata": {},
   "source": [
    "### Predict"
   ]
  },
  {
   "cell_type": "code",
   "execution_count": 101,
   "metadata": {},
   "outputs": [],
   "source": [
    "flights_test_pos = flights_test[flights_test['DEPARTURE_DELAY'] >= -100]\n",
    "flights_test_neg = flights_test[flights_test['DEPARTURE_DELAY'] < -100]"
   ]
  },
  {
   "cell_type": "code",
   "execution_count": 102,
   "metadata": {},
   "outputs": [],
   "source": [
    "x_pos = flights_test_pos['DEPARTURE_DELAY']\n",
    "x_neg = flights_test_neg['DEPARTURE_DELAY']"
   ]
  },
  {
   "cell_type": "code",
   "execution_count": 103,
   "metadata": {},
   "outputs": [],
   "source": [
    "y_pred_pos = model_pos.predict(pd.DataFrame(x_pos))\n",
    "y_pred_neg = model_neg.predict(pd.DataFrame(x_neg))"
   ]
  },
  {
   "cell_type": "code",
   "execution_count": 104,
   "metadata": {},
   "outputs": [],
   "source": [
    "y_pred_pos = pd.DataFrame(y_pred_pos, index=x_pos.index)\n",
    "y_pred_neg = pd.DataFrame(y_pred_neg, index=x_neg.index)"
   ]
  },
  {
   "cell_type": "code",
   "execution_count": 105,
   "metadata": {},
   "outputs": [],
   "source": [
    "# Combine the 2 predictions\n",
    "y_pred = pd.concat([y_pred_pos, y_pred_neg])\n",
    "y_pred = y_pred.sort_index()"
   ]
  },
  {
   "cell_type": "code",
   "execution_count": 107,
   "metadata": {},
   "outputs": [],
   "source": [
    "y_pred.to_csv(\"submission_linear.csv\")"
   ]
  },
  {
   "cell_type": "markdown",
   "metadata": {},
   "source": [
    "Score with linear model: **165.96464**"
   ]
  },
  {
   "cell_type": "markdown",
   "metadata": {},
   "source": [
    "## More thoughts"
   ]
  },
  {
   "cell_type": "code",
   "execution_count": 108,
   "metadata": {},
   "outputs": [
    {
     "data": {
      "image/png": "[encoded data removed]",
      "text/plain": [
       "<Figure size 432x288 with 1 Axes>"
      ]
     },
     "metadata": {
      "needs_background": "light"
     },
     "output_type": "display_data"
    }
   ],
   "source": [
    "sns.distplot(flights_train['ARRIVAL_DELAY']);"
   ]
  },
  {
   "cell_type": "code",
   "execution_count": 125,
   "metadata": {},
   "outputs": [],
   "source": [
    "flights_train['ARRIVAL_DELAY_log'] = flights_train['ARRIVAL_DELAY'].apply(lambda x: np.log(88+x))"
   ]
  },
  {
   "cell_type": "code",
   "execution_count": 127,
   "metadata": {},
   "outputs": [
    {
     "data": {
      "image/png": "[encoded data removed]",
      "text/plain": [
       "<Figure size 432x288 with 1 Axes>"
      ]
     },
     "metadata": {
      "needs_background": "light"
     },
     "output_type": "display_data"
    }
   ],
   "source": [
    "sns.distplot(flights_train['ARRIVAL_DELAY_log']);"
   ]
  }
 ],
 "metadata": {
  "kernelspec": {
   "display_name": "Python 3",
   "language": "python",
   "name": "python3"
  },
  "language_info": {
   "codemirror_mode": {
    "name": "ipython",
    "version": 3
   },
   "file_extension": ".py",
   "mimetype": "text/x-python",
   "name": "python",
   "nbconvert_exporter": "python",
   "pygments_lexer": "ipython3",
   "version": "3.8.8"
  }
 },
 "nbformat": 4,
 "nbformat_minor": 4
}
