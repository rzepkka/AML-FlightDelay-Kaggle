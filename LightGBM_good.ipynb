{
 "cells": [
  {
   "cell_type": "code",
   "execution_count": 30,
   "id": "04ad09de",
   "metadata": {},
   "outputs": [],
   "source": [
    "import datetime, warnings, scipy\n",
    "import pandas as pd\n",
    "import numpy as np\n",
    "import seaborn as sns\n",
    "import matplotlib as mpl\n",
    "import matplotlib.pyplot as plt\n",
    "from sklearn.preprocessing import LabelEncoder, OneHotEncoder\n",
    "from sklearn.linear_model import LinearRegression\n",
    "from sklearn.metrics import mean_squared_error, r2_score\n",
    "from sklearn.preprocessing import PolynomialFeatures\n",
    "from sklearn.pipeline import Pipeline, make_pipeline\n",
    "from scipy import stats as st\n",
    "\n",
    "#import pandas\n",
    "from keras.models import Sequential\n",
    "from keras.layers import Dense # fully connected layers\n",
    "from keras.wrappers.scikit_learn import KerasRegressor\n",
    "from sklearn.model_selection import RandomizedSearchCV, cross_val_score, KFold, RepeatedKFold\n",
    "from sklearn.preprocessing import StandardScaler\n",
    "import datetime\n",
    "from datetime import date\n",
    "from datetime import datetime\n",
    "import winsound"
   ]
  },
  {
   "cell_type": "markdown",
   "id": "ce75ba2d",
   "metadata": {},
   "source": [
    "### Loading Datasets"
   ]
  },
  {
   "cell_type": "code",
   "execution_count": 31,
   "id": "5e2d37cb",
   "metadata": {},
   "outputs": [],
   "source": [
    "flights_train = pd.read_pickle('flights_train.pickle')\n",
    "flights_test = pd.read_pickle('flights_test.pickle')"
   ]
  },
  {
   "cell_type": "code",
   "execution_count": 32,
   "id": "9afce245",
   "metadata": {},
   "outputs": [],
   "source": [
    "def drop_cols(df, cols):\n",
    "    df = df.drop(cols, axis=1)\n",
    "    return df"
   ]
  },
  {
   "cell_type": "code",
   "execution_count": 33,
   "id": "d06f5494",
   "metadata": {},
   "outputs": [
    {
     "data": {
      "text/html": [
       "<div>\n",
       "<style scoped>\n",
       "    .dataframe tbody tr th:only-of-type {\n",
       "        vertical-align: middle;\n",
       "    }\n",
       "\n",
       "    .dataframe tbody tr th {\n",
       "        vertical-align: top;\n",
       "    }\n",
       "\n",
       "    .dataframe thead th {\n",
       "        text-align: right;\n",
       "    }\n",
       "</style>\n",
       "<table border=\"1\" class=\"dataframe\">\n",
       "  <thead>\n",
       "    <tr style=\"text-align: right;\">\n",
       "      <th></th>\n",
       "      <th>MONTH</th>\n",
       "      <th>DAY_OF_WEEK</th>\n",
       "      <th>AIRLINE</th>\n",
       "      <th>FLIGHT_NUMBER</th>\n",
       "      <th>ORIGIN_AIRPORT</th>\n",
       "      <th>DESTINATION_AIRPORT</th>\n",
       "      <th>SCHEDULED_DEPARTURE</th>\n",
       "      <th>DEPARTURE_TIME</th>\n",
       "      <th>TAXI_OUT</th>\n",
       "      <th>WHEELS_OFF</th>\n",
       "      <th>SCHEDULED_TIME</th>\n",
       "      <th>DISTANCE</th>\n",
       "      <th>ARRIVAL_DELAY</th>\n",
       "      <th>DEPARTURE_DELAY</th>\n",
       "    </tr>\n",
       "    <tr>\n",
       "      <th>id</th>\n",
       "      <th></th>\n",
       "      <th></th>\n",
       "      <th></th>\n",
       "      <th></th>\n",
       "      <th></th>\n",
       "      <th></th>\n",
       "      <th></th>\n",
       "      <th></th>\n",
       "      <th></th>\n",
       "      <th></th>\n",
       "      <th></th>\n",
       "      <th></th>\n",
       "      <th></th>\n",
       "      <th></th>\n",
       "    </tr>\n",
       "  </thead>\n",
       "  <tbody>\n",
       "    <tr>\n",
       "      <th>0</th>\n",
       "      <td>1</td>\n",
       "      <td>4</td>\n",
       "      <td>AS</td>\n",
       "      <td>98</td>\n",
       "      <td>ANC</td>\n",
       "      <td>SEA</td>\n",
       "      <td>5</td>\n",
       "      <td>2354.0</td>\n",
       "      <td>21.0</td>\n",
       "      <td>15.0</td>\n",
       "      <td>205.0</td>\n",
       "      <td>1448</td>\n",
       "      <td>-22.0</td>\n",
       "      <td>-11.0</td>\n",
       "    </tr>\n",
       "  </tbody>\n",
       "</table>\n",
       "</div>"
      ],
      "text/plain": [
       "    MONTH  DAY_OF_WEEK AIRLINE  FLIGHT_NUMBER ORIGIN_AIRPORT  \\\n",
       "id                                                             \n",
       "0       1            4      AS             98            ANC   \n",
       "\n",
       "   DESTINATION_AIRPORT  SCHEDULED_DEPARTURE  DEPARTURE_TIME  TAXI_OUT  \\\n",
       "id                                                                      \n",
       "0                  SEA                    5          2354.0      21.0   \n",
       "\n",
       "    WHEELS_OFF  SCHEDULED_TIME  DISTANCE  ARRIVAL_DELAY  DEPARTURE_DELAY  \n",
       "id                                                                        \n",
       "0         15.0           205.0      1448          -22.0            -11.0  "
      ]
     },
     "metadata": {},
     "output_type": "display_data"
    },
    {
     "data": {
      "text/plain": [
       "(2818553, 14)"
      ]
     },
     "metadata": {},
     "output_type": "display_data"
    },
    {
     "data": {
      "text/html": [
       "<div>\n",
       "<style scoped>\n",
       "    .dataframe tbody tr th:only-of-type {\n",
       "        vertical-align: middle;\n",
       "    }\n",
       "\n",
       "    .dataframe tbody tr th {\n",
       "        vertical-align: top;\n",
       "    }\n",
       "\n",
       "    .dataframe thead th {\n",
       "        text-align: right;\n",
       "    }\n",
       "</style>\n",
       "<table border=\"1\" class=\"dataframe\">\n",
       "  <thead>\n",
       "    <tr style=\"text-align: right;\">\n",
       "      <th></th>\n",
       "      <th>MONTH</th>\n",
       "      <th>DAY_OF_WEEK</th>\n",
       "      <th>AIRLINE</th>\n",
       "      <th>FLIGHT_NUMBER</th>\n",
       "      <th>ORIGIN_AIRPORT</th>\n",
       "      <th>DESTINATION_AIRPORT</th>\n",
       "      <th>SCHEDULED_DEPARTURE</th>\n",
       "      <th>DEPARTURE_TIME</th>\n",
       "      <th>TAXI_OUT</th>\n",
       "      <th>WHEELS_OFF</th>\n",
       "      <th>SCHEDULED_TIME</th>\n",
       "      <th>DISTANCE</th>\n",
       "      <th>DEPARTURE_DELAY</th>\n",
       "    </tr>\n",
       "    <tr>\n",
       "      <th>id</th>\n",
       "      <th></th>\n",
       "      <th></th>\n",
       "      <th></th>\n",
       "      <th></th>\n",
       "      <th></th>\n",
       "      <th></th>\n",
       "      <th></th>\n",
       "      <th></th>\n",
       "      <th></th>\n",
       "      <th></th>\n",
       "      <th></th>\n",
       "      <th></th>\n",
       "      <th></th>\n",
       "    </tr>\n",
       "  </thead>\n",
       "  <tbody>\n",
       "    <tr>\n",
       "      <th>0</th>\n",
       "      <td>7</td>\n",
       "      <td>3</td>\n",
       "      <td>NK</td>\n",
       "      <td>298</td>\n",
       "      <td>LAS</td>\n",
       "      <td>IAH</td>\n",
       "      <td>3</td>\n",
       "      <td>41.0</td>\n",
       "      <td>11.0</td>\n",
       "      <td>52.0</td>\n",
       "      <td>177.0</td>\n",
       "      <td>1222</td>\n",
       "      <td>38.0</td>\n",
       "    </tr>\n",
       "  </tbody>\n",
       "</table>\n",
       "</div>"
      ],
      "text/plain": [
       "    MONTH  DAY_OF_WEEK AIRLINE  FLIGHT_NUMBER ORIGIN_AIRPORT  \\\n",
       "id                                                             \n",
       "0       7            3      NK            298            LAS   \n",
       "\n",
       "   DESTINATION_AIRPORT  SCHEDULED_DEPARTURE  DEPARTURE_TIME  TAXI_OUT  \\\n",
       "id                                                                      \n",
       "0                  IAH                    3            41.0      11.0   \n",
       "\n",
       "    WHEELS_OFF  SCHEDULED_TIME  DISTANCE  DEPARTURE_DELAY  \n",
       "id                                                         \n",
       "0         52.0           177.0      1222             38.0  "
      ]
     },
     "metadata": {},
     "output_type": "display_data"
    },
    {
     "data": {
      "text/plain": [
       "(514384, 13)"
      ]
     },
     "metadata": {},
     "output_type": "display_data"
    }
   ],
   "source": [
    "# Drop the unnecessary cols\n",
    "cols = ['SCHEDULED_ARRIVAL', 'YEAR', 'DAY', 'TAIL_NUMBER', 'DEPARTURE_TIME1', 'SCHEDULED_DEPARTURE1']\n",
    "\n",
    "train_set = drop_cols(flights_train, cols)\n",
    "test_set = drop_cols(flights_test, cols)\n",
    "\n",
    "display(train_set.head(1), train_set.shape)\n",
    "display(test_set.head(1), test_set.shape)"
   ]
  },
  {
   "cell_type": "markdown",
   "id": "b3b52813",
   "metadata": {},
   "source": [
    "We keep columns:\n",
    "* Month\n",
    "* Day of week\n",
    "* Airline\n",
    "* Origin airport\n",
    "* Destination airport\n",
    "* Scheduled time\n",
    "* Distance\n",
    "* Departure delay"
   ]
  },
  {
   "cell_type": "markdown",
   "id": "1ae2fe50",
   "metadata": {},
   "source": [
    "### Encoding"
   ]
  },
  {
   "cell_type": "markdown",
   "id": "9b2d1627",
   "metadata": {},
   "source": [
    "Category columns:\n",
    "* Airline\n",
    "* Origin airport\n",
    "* Destination airport\n",
    "* Day of week\n",
    "* Month\n",
    "\n",
    "We will try applying TARGET Encoding to non-numeric columns:\n",
    "* Airline\n",
    "* Origin airport\n",
    "* Destination airport"
   ]
  },
  {
   "cell_type": "code",
   "execution_count": 34,
   "id": "5089c620",
   "metadata": {},
   "outputs": [],
   "source": [
    "def target_encoding(df, target_encode_columns: list, target: list):\n",
    "    target_encode_df = df[target_encode_columns + target].reset_index().drop(columns = 'id', axis = 1)\n",
    "    target_name = target[0]\n",
    "    target_df = pd.DataFrame()\n",
    "    encoding_vals = {}\n",
    "    for embed_col in target_encode_columns:\n",
    "        val_map = target_encode_df.groupby(embed_col)[target].mean().to_dict()[target_name]\n",
    "        target_df[embed_col] = target_encode_df[embed_col].map(val_map).values\n",
    "        encoding_vals[embed_col] = val_map\n",
    "    score_target_drop = df.drop(target_encode_columns, axis = 1).reset_index().drop(columns = 'id', axis = 1)\n",
    "    score_target = pd.concat([score_target_drop, target_df], axis = 1)\n",
    "    \n",
    "    return score_target, encoding_vals"
   ]
  },
  {
   "cell_type": "code",
   "execution_count": 35,
   "id": "f61b557f",
   "metadata": {},
   "outputs": [],
   "source": [
    "def test_encoding(df, encoding_vals):\n",
    "    target_encode_columns = [col for col in encoding_vals.keys()]\n",
    "    target_encode_df = df[target_encode_columns].reset_index().drop(columns = 'id', axis = 1)\n",
    "    target_df = pd.DataFrame()\n",
    "    for embed_col in encoding_vals.keys():\n",
    "        val_map = encoding_vals[embed_col]\n",
    "        target_df[embed_col] = target_encode_df[embed_col].map(val_map).values\n",
    "    score_target_drop = df.drop(target_encode_columns, axis = 1).reset_index().drop(columns = 'id', axis = 1)\n",
    "    score_target = pd.concat([score_target_drop, target_df], axis = 1)\n",
    "    return score_target"
   ]
  },
  {
   "cell_type": "code",
   "execution_count": 36,
   "id": "b3a78aa6",
   "metadata": {},
   "outputs": [
    {
     "data": {
      "text/plain": [
       "(2818553, 13)"
      ]
     },
     "metadata": {},
     "output_type": "display_data"
    },
    {
     "data": {
      "text/plain": [
       "SCHEDULED_DEPARTURE      int64\n",
       "DEPARTURE_TIME         float64\n",
       "TAXI_OUT               float64\n",
       "WHEELS_OFF             float64\n",
       "SCHEDULED_TIME         float64\n",
       "DISTANCE                 int64\n",
       "DEPARTURE_DELAY        float64\n",
       "FLIGHT_NUMBER          float64\n",
       "AIRLINE                float64\n",
       "ORIGIN_AIRPORT         float64\n",
       "DESTINATION_AIRPORT    float64\n",
       "DAY_OF_WEEK            float64\n",
       "MONTH                  float64\n",
       "dtype: object"
      ]
     },
     "metadata": {},
     "output_type": "display_data"
    },
    {
     "data": {
      "text/plain": [
       "(514384, 13)"
      ]
     },
     "metadata": {},
     "output_type": "display_data"
    },
    {
     "data": {
      "text/plain": [
       "SCHEDULED_DEPARTURE      int64\n",
       "DEPARTURE_TIME         float64\n",
       "TAXI_OUT               float64\n",
       "WHEELS_OFF             float64\n",
       "SCHEDULED_TIME         float64\n",
       "DISTANCE                 int64\n",
       "DEPARTURE_DELAY        float64\n",
       "FLIGHT_NUMBER          float64\n",
       "AIRLINE                float64\n",
       "ORIGIN_AIRPORT         float64\n",
       "DESTINATION_AIRPORT    float64\n",
       "DAY_OF_WEEK            float64\n",
       "MONTH                  float64\n",
       "dtype: object"
      ]
     },
     "metadata": {},
     "output_type": "display_data"
    }
   ],
   "source": [
    "target_encode_columns = ['FLIGHT_NUMBER', 'AIRLINE', 'ORIGIN_AIRPORT', 'DESTINATION_AIRPORT', 'DAY_OF_WEEK', 'MONTH']\n",
    "target = ['ARRIVAL_DELAY']\n",
    "train, encoding_vals = target_encoding(train_set, target_encode_columns, target)\n",
    "\n",
    "X_train =train.drop(columns=['ARRIVAL_DELAY'])\n",
    "Y_train = train['ARRIVAL_DELAY']\n",
    "\n",
    "X_test = test_encoding(test_set, encoding_vals)\n",
    "\n",
    "display(X_train.shape, X_train.dtypes)\n",
    "display(X_test.shape, X_test.dtypes)"
   ]
  },
  {
   "cell_type": "markdown",
   "id": "4de48f48",
   "metadata": {},
   "source": [
    "### LGBM\n",
    "\n",
    "Parameters have been found with GridSearch & some manual tuning"
   ]
  },
  {
   "cell_type": "code",
   "execution_count": 37,
   "id": "9dcc9334",
   "metadata": {},
   "outputs": [],
   "source": [
    "import lightgbm as lgb"
   ]
  },
  {
   "cell_type": "code",
   "execution_count": 38,
   "id": "66b84e51",
   "metadata": {},
   "outputs": [
    {
     "name": "stderr",
     "output_type": "stream",
     "text": [
      "Found `num_iterations` in params. Will use it instead of argument\n"
     ]
    },
    {
     "name": "stdout",
     "output_type": "stream",
     "text": [
      "[LightGBM] [Info] Total Bins 2345\n",
      "[LightGBM] [Info] Number of data points in the train set: 2818553, number of used features: 13\n",
      "[LightGBM] [Info] Start training from score 6.001171\n"
     ]
    }
   ],
   "source": [
    "d_train = lgb.Dataset(X_train, label=Y_train)\n",
    "\n",
    "params_lgbm = {\n",
    "    'task': 'predict',\n",
    "    'objective': 'regression',\n",
    "    'metric': 'mse',\n",
    "    'boosting_type': 'gbdt',\n",
    "    'n_jobs': 4,\n",
    "    'num_iterations': 7500,\n",
    "    'learning_rate': 0.01,\n",
    "    'num_leaves': 128,\n",
    "    'bagging_fraction': 0.7,\n",
    "    'bagging_freq': 1,\n",
    "    'feature_fraction': 0.5,\n",
    "    'bagging_seed': 42,\n",
    "    'verbosity': 1,\n",
    "    'random_state': 42,\n",
    "    'force_col_wise': True\n",
    "}\n",
    "\n",
    "Y_train = Y_train.ravel()\n",
    "model_lgb = lgb.train(params_lgbm, d_train)\n",
    "# RSE: 77.79266"
   ]
  },
  {
   "cell_type": "code",
   "execution_count": 10,
   "id": "cff7abcd",
   "metadata": {},
   "outputs": [
    {
     "ename": "NameError",
     "evalue": "name 'model_lgb' is not defined",
     "output_type": "error",
     "traceback": [
      "\u001b[1;31m---------------------------------------------------------------------------\u001b[0m",
      "\u001b[1;31mNameError\u001b[0m                                 Traceback (most recent call last)",
      "\u001b[1;32m<ipython-input-10-5731d4499976>\u001b[0m in \u001b[0;36m<module>\u001b[1;34m\u001b[0m\n\u001b[1;32m----> 1\u001b[1;33m \u001b[0mmodel_lgb\u001b[0m\u001b[1;33m.\u001b[0m\u001b[0meval_train\u001b[0m\u001b[1;33m(\u001b[0m\u001b[0mpredictions\u001b[0m\u001b[1;33m,\u001b[0m \u001b[0mtrain\u001b[0m\u001b[1;33m)\u001b[0m\u001b[1;33m\u001b[0m\u001b[1;33m\u001b[0m\u001b[0m\n\u001b[0m",
      "\u001b[1;31mNameError\u001b[0m: name 'model_lgb' is not defined"
     ]
    }
   ],
   "source": [
    "model_lgb.eval_train(predictions, train)"
   ]
  },
  {
   "cell_type": "code",
   "execution_count": 40,
   "id": "999ece3d",
   "metadata": {},
   "outputs": [
    {
     "data": {
      "text/plain": [
       "<lightgbm.basic.Booster at 0x14769afdb20>"
      ]
     },
     "execution_count": 40,
     "metadata": {},
     "output_type": "execute_result"
    }
   ],
   "source": [
    "# Save the model\n",
    "model_lgb.save_model('model_lgbm2.txt')\n",
    "model_lgb.save_model(\"model_lgbm2.json\")"
   ]
  },
  {
   "cell_type": "code",
   "execution_count": 46,
   "id": "d4076f4c",
   "metadata": {},
   "outputs": [],
   "source": [
    "# Load from model\n",
    "model_lgb = lgb.Booster(model_file='model_lgbm_good.txt')"
   ]
  },
  {
   "cell_type": "code",
   "execution_count": 41,
   "id": "f0c8d924",
   "metadata": {},
   "outputs": [],
   "source": [
    "predictions = model_lgb.predict(X_test)"
   ]
  },
  {
   "cell_type": "markdown",
   "id": "39cbbf62",
   "metadata": {},
   "source": [
    "### Evaluate the model"
   ]
  },
  {
   "cell_type": "code",
   "execution_count": 15,
   "id": "950ff4b2",
   "metadata": {},
   "outputs": [],
   "source": [
    "import shap"
   ]
  },
  {
   "cell_type": "code",
   "execution_count": 19,
   "id": "743ad4ad",
   "metadata": {},
   "outputs": [],
   "source": [
    "expl = shap.TreeExplainer(model_lgb)"
   ]
  },
  {
   "cell_type": "code",
   "execution_count": 26,
   "id": "e074f4da",
   "metadata": {},
   "outputs": [
    {
     "ename": "KeyError",
     "evalue": "'objective'",
     "output_type": "error",
     "traceback": [
      "\u001b[1;31m---------------------------------------------------------------------------\u001b[0m",
      "\u001b[1;31mKeyError\u001b[0m                                  Traceback (most recent call last)",
      "\u001b[1;32m<ipython-input-26-3d5e37fdba6c>\u001b[0m in \u001b[0;36m<module>\u001b[1;34m\u001b[0m\n\u001b[1;32m----> 1\u001b[1;33m \u001b[0mshap_values\u001b[0m \u001b[1;33m=\u001b[0m \u001b[0mexpl\u001b[0m\u001b[1;33m.\u001b[0m\u001b[0mshap_values\u001b[0m\u001b[1;33m(\u001b[0m\u001b[0mX_train\u001b[0m\u001b[1;33m.\u001b[0m\u001b[0miloc\u001b[0m\u001b[1;33m[\u001b[0m\u001b[1;33m:\u001b[0m\u001b[1;36m10000\u001b[0m\u001b[1;33m,\u001b[0m\u001b[1;33m:\u001b[0m\u001b[1;33m]\u001b[0m\u001b[1;33m)\u001b[0m\u001b[1;33m\u001b[0m\u001b[1;33m\u001b[0m\u001b[0m\n\u001b[0m",
      "\u001b[1;32m~\\anaconda3\\lib\\site-packages\\shap\\explainers\\_tree.py\u001b[0m in \u001b[0;36mshap_values\u001b[1;34m(self, X, y, tree_limit, approximate, check_additivity, from_call)\u001b[0m\n\u001b[0;32m    347\u001b[0m                 \u001b[0mphi\u001b[0m \u001b[1;33m=\u001b[0m \u001b[0mself\u001b[0m\u001b[1;33m.\u001b[0m\u001b[0mmodel\u001b[0m\u001b[1;33m.\u001b[0m\u001b[0moriginal_model\u001b[0m\u001b[1;33m.\u001b[0m\u001b[0mpredict\u001b[0m\u001b[1;33m(\u001b[0m\u001b[0mX\u001b[0m\u001b[1;33m,\u001b[0m \u001b[0mnum_iteration\u001b[0m\u001b[1;33m=\u001b[0m\u001b[0mtree_limit\u001b[0m\u001b[1;33m,\u001b[0m \u001b[0mpred_contrib\u001b[0m\u001b[1;33m=\u001b[0m\u001b[1;32mTrue\u001b[0m\u001b[1;33m)\u001b[0m\u001b[1;33m\u001b[0m\u001b[1;33m\u001b[0m\u001b[0m\n\u001b[0;32m    348\u001b[0m                 \u001b[1;31m# Note: the data must be joined on the last axis\u001b[0m\u001b[1;33m\u001b[0m\u001b[1;33m\u001b[0m\u001b[1;33m\u001b[0m\u001b[0m\n\u001b[1;32m--> 349\u001b[1;33m                 \u001b[1;32mif\u001b[0m \u001b[0mself\u001b[0m\u001b[1;33m.\u001b[0m\u001b[0mmodel\u001b[0m\u001b[1;33m.\u001b[0m\u001b[0moriginal_model\u001b[0m\u001b[1;33m.\u001b[0m\u001b[0mparams\u001b[0m\u001b[1;33m[\u001b[0m\u001b[1;34m'objective'\u001b[0m\u001b[1;33m]\u001b[0m \u001b[1;33m==\u001b[0m \u001b[1;34m'binary'\u001b[0m\u001b[1;33m:\u001b[0m\u001b[1;33m\u001b[0m\u001b[1;33m\u001b[0m\u001b[0m\n\u001b[0m\u001b[0;32m    350\u001b[0m                     \u001b[1;32mif\u001b[0m \u001b[1;32mnot\u001b[0m \u001b[0mfrom_call\u001b[0m\u001b[1;33m:\u001b[0m\u001b[1;33m\u001b[0m\u001b[1;33m\u001b[0m\u001b[0m\n\u001b[0;32m    351\u001b[0m                         \u001b[0mwarnings\u001b[0m\u001b[1;33m.\u001b[0m\u001b[0mwarn\u001b[0m\u001b[1;33m(\u001b[0m\u001b[1;34m'LightGBM binary classifier with TreeExplainer shap values output has changed to a list of ndarray'\u001b[0m\u001b[1;33m)\u001b[0m\u001b[1;33m\u001b[0m\u001b[1;33m\u001b[0m\u001b[0m\n",
      "\u001b[1;31mKeyError\u001b[0m: 'objective'"
     ]
    }
   ],
   "source": [
    "shap_values = expl.shap_values(X_train.iloc[:10000,:])"
   ]
  },
  {
   "cell_type": "code",
   "execution_count": 47,
   "id": "f9edaddd",
   "metadata": {},
   "outputs": [
    {
     "data": {
      "image/png": "[encoded data removed]",
      "text/plain": [
       "<Figure size 432x288 with 1 Axes>"
      ]
     },
     "metadata": {
      "needs_background": "light"
     },
     "output_type": "display_data"
    },
    {
     "data": {
      "text/plain": [
       "<Figure size 1152x864 with 0 Axes>"
      ]
     },
     "metadata": {},
     "output_type": "display_data"
    }
   ],
   "source": [
    "lgb.plot_importance(model_lgb)\n",
    "# pd.DataFrame(predictions).to_csv(\"SUBMISSIONS/submission_lgb.csv\")\n",
    "plt.figure(figsize = (16, 12))\n",
    "plt.show()\n",
    "# plt.save('pics/FeatureImportanceLGBM.png')"
   ]
  },
  {
   "cell_type": "code",
   "execution_count": 42,
   "id": "b0216703",
   "metadata": {},
   "outputs": [],
   "source": [
    "winsound.Beep(440, 1000)"
   ]
  },
  {
   "cell_type": "markdown",
   "id": "8f5e9a35",
   "metadata": {},
   "source": [
    "### Kaggle Submission Format"
   ]
  },
  {
   "cell_type": "code",
   "execution_count": 44,
   "id": "0b75ad53",
   "metadata": {},
   "outputs": [],
   "source": [
    "pd.DataFrame(predictions).to_csv(\"SUBMISSIONS/submission_lgb3.csv\")"
   ]
  },
  {
   "cell_type": "code",
   "execution_count": 18,
   "id": "74f6ec6c",
   "metadata": {},
   "outputs": [
    {
     "data": {
      "text/plain": [
       "<AxesSubplot:title={'center':'Feature importance'}, xlabel='F score', ylabel='Features'>"
      ]
     },
     "execution_count": 18,
     "metadata": {},
     "output_type": "execute_result"
    },
    {
     "data": {
      "image/png": "[encoded data removed]",
      "text/plain": [
       "<Figure size 432x288 with 1 Axes>"
      ]
     },
     "metadata": {
      "needs_background": "light"
     },
     "output_type": "display_data"
    }
   ],
   "source": [
    "xgb.plot_importance(model_xgb_best)"
   ]
  },
  {
   "cell_type": "code",
   "execution_count": 208,
   "id": "9d86699e",
   "metadata": {},
   "outputs": [
    {
     "data": {
      "text/html": [
       "<div>\n",
       "<style scoped>\n",
       "    .dataframe tbody tr th:only-of-type {\n",
       "        vertical-align: middle;\n",
       "    }\n",
       "\n",
       "    .dataframe tbody tr th {\n",
       "        vertical-align: top;\n",
       "    }\n",
       "\n",
       "    .dataframe thead th {\n",
       "        text-align: right;\n",
       "    }\n",
       "</style>\n",
       "<table border=\"1\" class=\"dataframe\">\n",
       "  <thead>\n",
       "    <tr style=\"text-align: right;\">\n",
       "      <th></th>\n",
       "      <th>DAY_OF_WEEK</th>\n",
       "      <th>DEPARTURE_TIME</th>\n",
       "      <th>TAXI_OUT</th>\n",
       "      <th>SCHEDULED_TIME</th>\n",
       "      <th>DISTANCE</th>\n",
       "      <th>DEPARTURE_DELAY</th>\n",
       "      <th>AIRLINE</th>\n",
       "      <th>ORIGIN_AIRPORT</th>\n",
       "      <th>DESTINATION_AIRPORT</th>\n",
       "      <th>MONTH</th>\n",
       "    </tr>\n",
       "  </thead>\n",
       "  <tbody>\n",
       "    <tr>\n",
       "      <th>0</th>\n",
       "      <td>4</td>\n",
       "      <td>2354.0</td>\n",
       "      <td>21.0</td>\n",
       "      <td>205.0</td>\n",
       "      <td>1448</td>\n",
       "      <td>-11.0</td>\n",
       "      <td>-1.104695</td>\n",
       "      <td>-0.774214</td>\n",
       "      <td>1.326610</td>\n",
       "      <td>1</td>\n",
       "    </tr>\n",
       "    <tr>\n",
       "      <th>1</th>\n",
       "      <td>4</td>\n",
       "      <td>41.0</td>\n",
       "      <td>17.0</td>\n",
       "      <td>204.0</td>\n",
       "      <td>1448</td>\n",
       "      <td>-4.0</td>\n",
       "      <td>-1.104695</td>\n",
       "      <td>-0.774214</td>\n",
       "      <td>1.326610</td>\n",
       "      <td>1</td>\n",
       "    </tr>\n",
       "    <tr>\n",
       "      <th>2</th>\n",
       "      <td>4</td>\n",
       "      <td>31.0</td>\n",
       "      <td>25.0</td>\n",
       "      <td>210.0</td>\n",
       "      <td>1448</td>\n",
       "      <td>-14.0</td>\n",
       "      <td>1.694466</td>\n",
       "      <td>-0.774214</td>\n",
       "      <td>1.326610</td>\n",
       "      <td>1</td>\n",
       "    </tr>\n",
       "    <tr>\n",
       "      <th>3</th>\n",
       "      <td>4</td>\n",
       "      <td>46.0</td>\n",
       "      <td>11.0</td>\n",
       "      <td>215.0</td>\n",
       "      <td>1542</td>\n",
       "      <td>-4.0</td>\n",
       "      <td>-1.104695</td>\n",
       "      <td>-0.774214</td>\n",
       "      <td>1.966414</td>\n",
       "      <td>1</td>\n",
       "    </tr>\n",
       "    <tr>\n",
       "      <th>4</th>\n",
       "      <td>4</td>\n",
       "      <td>143.0</td>\n",
       "      <td>21.0</td>\n",
       "      <td>323.0</td>\n",
       "      <td>2552</td>\n",
       "      <td>-9.0</td>\n",
       "      <td>3.706209</td>\n",
       "      <td>-0.774214</td>\n",
       "      <td>3.088939</td>\n",
       "      <td>1</td>\n",
       "    </tr>\n",
       "    <tr>\n",
       "      <th>...</th>\n",
       "      <td>...</td>\n",
       "      <td>...</td>\n",
       "      <td>...</td>\n",
       "      <td>...</td>\n",
       "      <td>...</td>\n",
       "      <td>...</td>\n",
       "      <td>...</td>\n",
       "      <td>...</td>\n",
       "      <td>...</td>\n",
       "      <td>...</td>\n",
       "    </tr>\n",
       "    <tr>\n",
       "      <th>2818548</th>\n",
       "      <td>4</td>\n",
       "      <td>1315.0</td>\n",
       "      <td>9.0</td>\n",
       "      <td>72.0</td>\n",
       "      <td>196</td>\n",
       "      <td>6.0</td>\n",
       "      <td>6.968689</td>\n",
       "      <td>18.833333</td>\n",
       "      <td>9.525048</td>\n",
       "      <td>6</td>\n",
       "    </tr>\n",
       "    <tr>\n",
       "      <th>2818549</th>\n",
       "      <td>5</td>\n",
       "      <td>1315.0</td>\n",
       "      <td>5.0</td>\n",
       "      <td>72.0</td>\n",
       "      <td>196</td>\n",
       "      <td>6.0</td>\n",
       "      <td>6.968689</td>\n",
       "      <td>18.833333</td>\n",
       "      <td>9.525048</td>\n",
       "      <td>6</td>\n",
       "    </tr>\n",
       "    <tr>\n",
       "      <th>2818550</th>\n",
       "      <td>6</td>\n",
       "      <td>1308.0</td>\n",
       "      <td>16.0</td>\n",
       "      <td>72.0</td>\n",
       "      <td>196</td>\n",
       "      <td>-1.0</td>\n",
       "      <td>6.968689</td>\n",
       "      <td>18.833333</td>\n",
       "      <td>9.525048</td>\n",
       "      <td>6</td>\n",
       "    </tr>\n",
       "    <tr>\n",
       "      <th>2818551</th>\n",
       "      <td>1</td>\n",
       "      <td>1305.0</td>\n",
       "      <td>6.0</td>\n",
       "      <td>72.0</td>\n",
       "      <td>196</td>\n",
       "      <td>-4.0</td>\n",
       "      <td>6.968689</td>\n",
       "      <td>18.833333</td>\n",
       "      <td>9.525048</td>\n",
       "      <td>6</td>\n",
       "    </tr>\n",
       "    <tr>\n",
       "      <th>2818552</th>\n",
       "      <td>2</td>\n",
       "      <td>1251.0</td>\n",
       "      <td>25.0</td>\n",
       "      <td>72.0</td>\n",
       "      <td>196</td>\n",
       "      <td>-18.0</td>\n",
       "      <td>6.968689</td>\n",
       "      <td>18.833333</td>\n",
       "      <td>9.525048</td>\n",
       "      <td>6</td>\n",
       "    </tr>\n",
       "  </tbody>\n",
       "</table>\n",
       "<p>2818553 rows × 10 columns</p>\n",
       "</div>"
      ],
      "text/plain": [
       "         DAY_OF_WEEK  DEPARTURE_TIME  TAXI_OUT  SCHEDULED_TIME  DISTANCE  \\\n",
       "0                  4          2354.0      21.0           205.0      1448   \n",
       "1                  4            41.0      17.0           204.0      1448   \n",
       "2                  4            31.0      25.0           210.0      1448   \n",
       "3                  4            46.0      11.0           215.0      1542   \n",
       "4                  4           143.0      21.0           323.0      2552   \n",
       "...              ...             ...       ...             ...       ...   \n",
       "2818548            4          1315.0       9.0            72.0       196   \n",
       "2818549            5          1315.0       5.0            72.0       196   \n",
       "2818550            6          1308.0      16.0            72.0       196   \n",
       "2818551            1          1305.0       6.0            72.0       196   \n",
       "2818552            2          1251.0      25.0            72.0       196   \n",
       "\n",
       "         DEPARTURE_DELAY   AIRLINE  ORIGIN_AIRPORT  DESTINATION_AIRPORT  MONTH  \n",
       "0                  -11.0 -1.104695       -0.774214             1.326610      1  \n",
       "1                   -4.0 -1.104695       -0.774214             1.326610      1  \n",
       "2                  -14.0  1.694466       -0.774214             1.326610      1  \n",
       "3                   -4.0 -1.104695       -0.774214             1.966414      1  \n",
       "4                   -9.0  3.706209       -0.774214             3.088939      1  \n",
       "...                  ...       ...             ...                  ...    ...  \n",
       "2818548              6.0  6.968689       18.833333             9.525048      6  \n",
       "2818549              6.0  6.968689       18.833333             9.525048      6  \n",
       "2818550             -1.0  6.968689       18.833333             9.525048      6  \n",
       "2818551             -4.0  6.968689       18.833333             9.525048      6  \n",
       "2818552            -18.0  6.968689       18.833333             9.525048      6  \n",
       "\n",
       "[2818553 rows x 10 columns]"
      ]
     },
     "execution_count": 208,
     "metadata": {},
     "output_type": "execute_result"
    }
   ],
   "source": [
    "X_train"
   ]
  },
  {
   "cell_type": "markdown",
   "id": "aee34790",
   "metadata": {},
   "source": [
    "### Saving model"
   ]
  },
  {
   "cell_type": "code",
   "execution_count": 99,
   "id": "2c9b9449",
   "metadata": {},
   "outputs": [
    {
     "ename": "NotFittedError",
     "evalue": "need to call fit or load_model beforehand",
     "output_type": "error",
     "traceback": [
      "\u001b[1;31m---------------------------------------------------------------------------\u001b[0m",
      "\u001b[1;31mNotFittedError\u001b[0m                            Traceback (most recent call last)",
      "\u001b[1;32m<ipython-input-99-a66ec18d725e>\u001b[0m in \u001b[0;36m<module>\u001b[1;34m\u001b[0m\n\u001b[0;32m      2\u001b[0m \u001b[1;31m# model_xgb_best.save(\"model_9.h5\")\u001b[0m\u001b[1;33m\u001b[0m\u001b[1;33m\u001b[0m\u001b[1;33m\u001b[0m\u001b[0m\n\u001b[0;32m      3\u001b[0m \u001b[1;31m# save to JSON\u001b[0m\u001b[1;33m\u001b[0m\u001b[1;33m\u001b[0m\u001b[1;33m\u001b[0m\u001b[0m\n\u001b[1;32m----> 4\u001b[1;33m \u001b[0mmodel_xgb\u001b[0m\u001b[1;33m.\u001b[0m\u001b[0msave_model\u001b[0m\u001b[1;33m(\u001b[0m\u001b[1;34m\"model_xgb.json\"\u001b[0m\u001b[1;33m)\u001b[0m\u001b[1;33m\u001b[0m\u001b[1;33m\u001b[0m\u001b[0m\n\u001b[0m\u001b[0;32m      5\u001b[0m \u001b[1;31m# save to text format\u001b[0m\u001b[1;33m\u001b[0m\u001b[1;33m\u001b[0m\u001b[1;33m\u001b[0m\u001b[0m\n\u001b[0;32m      6\u001b[0m \u001b[0mmodel_xgb\u001b[0m\u001b[1;33m.\u001b[0m\u001b[0msave_model\u001b[0m\u001b[1;33m(\u001b[0m\u001b[1;34m\"model_xgb.txt\"\u001b[0m\u001b[1;33m)\u001b[0m\u001b[1;33m\u001b[0m\u001b[1;33m\u001b[0m\u001b[0m\n",
      "\u001b[1;32m~\\anaconda3\\lib\\site-packages\\xgboost\\sklearn.py\u001b[0m in \u001b[0;36msave_model\u001b[1;34m(self, fname)\u001b[0m\n\u001b[0;32m    586\u001b[0m         \u001b[0mmeta\u001b[0m\u001b[1;33m[\u001b[0m\u001b[1;34m'_estimator_type'\u001b[0m\u001b[1;33m]\u001b[0m \u001b[1;33m=\u001b[0m \u001b[0mself\u001b[0m\u001b[1;33m.\u001b[0m\u001b[0m_get_type\u001b[0m\u001b[1;33m(\u001b[0m\u001b[1;33m)\u001b[0m\u001b[1;33m\u001b[0m\u001b[1;33m\u001b[0m\u001b[0m\n\u001b[0;32m    587\u001b[0m         \u001b[0mmeta_str\u001b[0m \u001b[1;33m=\u001b[0m \u001b[0mjson\u001b[0m\u001b[1;33m.\u001b[0m\u001b[0mdumps\u001b[0m\u001b[1;33m(\u001b[0m\u001b[0mmeta\u001b[0m\u001b[1;33m)\u001b[0m\u001b[1;33m\u001b[0m\u001b[1;33m\u001b[0m\u001b[0m\n\u001b[1;32m--> 588\u001b[1;33m         \u001b[0mself\u001b[0m\u001b[1;33m.\u001b[0m\u001b[0mget_booster\u001b[0m\u001b[1;33m(\u001b[0m\u001b[1;33m)\u001b[0m\u001b[1;33m.\u001b[0m\u001b[0mset_attr\u001b[0m\u001b[1;33m(\u001b[0m\u001b[0mscikit_learn\u001b[0m\u001b[1;33m=\u001b[0m\u001b[0mmeta_str\u001b[0m\u001b[1;33m)\u001b[0m\u001b[1;33m\u001b[0m\u001b[1;33m\u001b[0m\u001b[0m\n\u001b[0m\u001b[0;32m    589\u001b[0m         \u001b[0mself\u001b[0m\u001b[1;33m.\u001b[0m\u001b[0mget_booster\u001b[0m\u001b[1;33m(\u001b[0m\u001b[1;33m)\u001b[0m\u001b[1;33m.\u001b[0m\u001b[0msave_model\u001b[0m\u001b[1;33m(\u001b[0m\u001b[0mfname\u001b[0m\u001b[1;33m)\u001b[0m\u001b[1;33m\u001b[0m\u001b[1;33m\u001b[0m\u001b[0m\n\u001b[0;32m    590\u001b[0m         \u001b[1;31m# Delete the attribute after save\u001b[0m\u001b[1;33m\u001b[0m\u001b[1;33m\u001b[0m\u001b[1;33m\u001b[0m\u001b[0m\n",
      "\u001b[1;32m~\\anaconda3\\lib\\site-packages\\xgboost\\sklearn.py\u001b[0m in \u001b[0;36mget_booster\u001b[1;34m(self)\u001b[0m\n\u001b[0;32m    457\u001b[0m         \u001b[1;32mif\u001b[0m \u001b[1;32mnot\u001b[0m \u001b[0mself\u001b[0m\u001b[1;33m.\u001b[0m\u001b[0m__sklearn_is_fitted__\u001b[0m\u001b[1;33m(\u001b[0m\u001b[1;33m)\u001b[0m\u001b[1;33m:\u001b[0m\u001b[1;33m\u001b[0m\u001b[1;33m\u001b[0m\u001b[0m\n\u001b[0;32m    458\u001b[0m             \u001b[1;32mfrom\u001b[0m \u001b[0msklearn\u001b[0m\u001b[1;33m.\u001b[0m\u001b[0mexceptions\u001b[0m \u001b[1;32mimport\u001b[0m \u001b[0mNotFittedError\u001b[0m\u001b[1;33m\u001b[0m\u001b[1;33m\u001b[0m\u001b[0m\n\u001b[1;32m--> 459\u001b[1;33m             \u001b[1;32mraise\u001b[0m \u001b[0mNotFittedError\u001b[0m\u001b[1;33m(\u001b[0m\u001b[1;34m'need to call fit or load_model beforehand'\u001b[0m\u001b[1;33m)\u001b[0m\u001b[1;33m\u001b[0m\u001b[1;33m\u001b[0m\u001b[0m\n\u001b[0m\u001b[0;32m    460\u001b[0m         \u001b[1;32mreturn\u001b[0m \u001b[0mself\u001b[0m\u001b[1;33m.\u001b[0m\u001b[0m_Booster\u001b[0m\u001b[1;33m\u001b[0m\u001b[1;33m\u001b[0m\u001b[0m\n\u001b[0;32m    461\u001b[0m \u001b[1;33m\u001b[0m\u001b[0m\n",
      "\u001b[1;31mNotFittedError\u001b[0m: need to call fit or load_model beforehand"
     ]
    }
   ],
   "source": [
    "# save model and architecture to single file\n",
    "# model_xgb_best.save(\"model_9.h5\")\n",
    "# save to JSON\n",
    "model_xgb.save_model(\"model_xgb.json\")\n",
    "# save to text format\n",
    "model_xgb.save_model(\"model_xgb.txt\")\n",
    "print(\"Saved model to disk\")"
   ]
  },
  {
   "cell_type": "code",
   "execution_count": 27,
   "id": "9dd80f2a",
   "metadata": {},
   "outputs": [
    {
     "name": "stdout",
     "output_type": "stream",
     "text": [
      "[[ 40.38021  ]\n",
      " [-10.870261 ]\n",
      " [ -9.2564535]\n",
      " ...\n",
      " [ -3.8454266]\n",
      " [  5.260379 ]\n",
      " [ -0.757607 ]]\n"
     ]
    }
   ],
   "source": [
    "new_predictions = loaded_model.predict(X_test)\n",
    "print(new_predictions)"
   ]
  },
  {
   "cell_type": "markdown",
   "id": "54225086",
   "metadata": {},
   "source": [
    "#### Save file for Kaggle submition"
   ]
  },
  {
   "cell_type": "code",
   "execution_count": 28,
   "id": "dad6fb67",
   "metadata": {},
   "outputs": [],
   "source": [
    "pd.DataFrame(new_predictions).to_csv(\"submission_9.csv\")\n"
   ]
  },
  {
   "cell_type": "code",
   "execution_count": 140,
   "id": "84869ad5",
   "metadata": {},
   "outputs": [
    {
     "data": {
      "text/html": [
       "<div>\n",
       "<style scoped>\n",
       "    .dataframe tbody tr th:only-of-type {\n",
       "        vertical-align: middle;\n",
       "    }\n",
       "\n",
       "    .dataframe tbody tr th {\n",
       "        vertical-align: top;\n",
       "    }\n",
       "\n",
       "    .dataframe thead th {\n",
       "        text-align: right;\n",
       "    }\n",
       "</style>\n",
       "<table border=\"1\" class=\"dataframe\">\n",
       "  <thead>\n",
       "    <tr style=\"text-align: right;\">\n",
       "      <th></th>\n",
       "      <th>DAY_OF_WEEK</th>\n",
       "      <th>AIRLINE</th>\n",
       "      <th>ORIGIN_AIRPORT</th>\n",
       "      <th>DESTINATION_AIRPORT</th>\n",
       "      <th>DEPARTURE_TIME</th>\n",
       "      <th>TAXI_OUT</th>\n",
       "      <th>SCHEDULED_TIME</th>\n",
       "      <th>DISTANCE</th>\n",
       "      <th>DEPARTURE_DELAY</th>\n",
       "      <th>MONTH</th>\n",
       "    </tr>\n",
       "  </thead>\n",
       "  <tbody>\n",
       "    <tr>\n",
       "      <th>0</th>\n",
       "      <td>4</td>\n",
       "      <td>AS</td>\n",
       "      <td>ANC</td>\n",
       "      <td>SEA</td>\n",
       "      <td>2354.0</td>\n",
       "      <td>21.0</td>\n",
       "      <td>205.0</td>\n",
       "      <td>1448</td>\n",
       "      <td>-11.0</td>\n",
       "      <td>1</td>\n",
       "    </tr>\n",
       "    <tr>\n",
       "      <th>1</th>\n",
       "      <td>4</td>\n",
       "      <td>AS</td>\n",
       "      <td>ANC</td>\n",
       "      <td>SEA</td>\n",
       "      <td>41.0</td>\n",
       "      <td>17.0</td>\n",
       "      <td>204.0</td>\n",
       "      <td>1448</td>\n",
       "      <td>-4.0</td>\n",
       "      <td>1</td>\n",
       "    </tr>\n",
       "    <tr>\n",
       "      <th>2</th>\n",
       "      <td>4</td>\n",
       "      <td>DL</td>\n",
       "      <td>ANC</td>\n",
       "      <td>SEA</td>\n",
       "      <td>31.0</td>\n",
       "      <td>25.0</td>\n",
       "      <td>210.0</td>\n",
       "      <td>1448</td>\n",
       "      <td>-14.0</td>\n",
       "      <td>1</td>\n",
       "    </tr>\n",
       "    <tr>\n",
       "      <th>3</th>\n",
       "      <td>4</td>\n",
       "      <td>AS</td>\n",
       "      <td>ANC</td>\n",
       "      <td>PDX</td>\n",
       "      <td>46.0</td>\n",
       "      <td>11.0</td>\n",
       "      <td>215.0</td>\n",
       "      <td>1542</td>\n",
       "      <td>-4.0</td>\n",
       "      <td>1</td>\n",
       "    </tr>\n",
       "    <tr>\n",
       "      <th>4</th>\n",
       "      <td>4</td>\n",
       "      <td>US</td>\n",
       "      <td>ANC</td>\n",
       "      <td>PHX</td>\n",
       "      <td>143.0</td>\n",
       "      <td>21.0</td>\n",
       "      <td>323.0</td>\n",
       "      <td>2552</td>\n",
       "      <td>-9.0</td>\n",
       "      <td>1</td>\n",
       "    </tr>\n",
       "    <tr>\n",
       "      <th>...</th>\n",
       "      <td>...</td>\n",
       "      <td>...</td>\n",
       "      <td>...</td>\n",
       "      <td>...</td>\n",
       "      <td>...</td>\n",
       "      <td>...</td>\n",
       "      <td>...</td>\n",
       "      <td>...</td>\n",
       "      <td>...</td>\n",
       "      <td>...</td>\n",
       "    </tr>\n",
       "    <tr>\n",
       "      <th>2818548</th>\n",
       "      <td>4</td>\n",
       "      <td>B6</td>\n",
       "      <td>HYA</td>\n",
       "      <td>JFK</td>\n",
       "      <td>1315.0</td>\n",
       "      <td>9.0</td>\n",
       "      <td>72.0</td>\n",
       "      <td>196</td>\n",
       "      <td>6.0</td>\n",
       "      <td>6</td>\n",
       "    </tr>\n",
       "    <tr>\n",
       "      <th>2818549</th>\n",
       "      <td>5</td>\n",
       "      <td>B6</td>\n",
       "      <td>HYA</td>\n",
       "      <td>JFK</td>\n",
       "      <td>1315.0</td>\n",
       "      <td>5.0</td>\n",
       "      <td>72.0</td>\n",
       "      <td>196</td>\n",
       "      <td>6.0</td>\n",
       "      <td>6</td>\n",
       "    </tr>\n",
       "    <tr>\n",
       "      <th>2818550</th>\n",
       "      <td>6</td>\n",
       "      <td>B6</td>\n",
       "      <td>HYA</td>\n",
       "      <td>JFK</td>\n",
       "      <td>1308.0</td>\n",
       "      <td>16.0</td>\n",
       "      <td>72.0</td>\n",
       "      <td>196</td>\n",
       "      <td>-1.0</td>\n",
       "      <td>6</td>\n",
       "    </tr>\n",
       "    <tr>\n",
       "      <th>2818551</th>\n",
       "      <td>1</td>\n",
       "      <td>B6</td>\n",
       "      <td>HYA</td>\n",
       "      <td>JFK</td>\n",
       "      <td>1305.0</td>\n",
       "      <td>6.0</td>\n",
       "      <td>72.0</td>\n",
       "      <td>196</td>\n",
       "      <td>-4.0</td>\n",
       "      <td>6</td>\n",
       "    </tr>\n",
       "    <tr>\n",
       "      <th>2818552</th>\n",
       "      <td>2</td>\n",
       "      <td>B6</td>\n",
       "      <td>HYA</td>\n",
       "      <td>JFK</td>\n",
       "      <td>1251.0</td>\n",
       "      <td>25.0</td>\n",
       "      <td>72.0</td>\n",
       "      <td>196</td>\n",
       "      <td>-18.0</td>\n",
       "      <td>6</td>\n",
       "    </tr>\n",
       "  </tbody>\n",
       "</table>\n",
       "<p>2818553 rows × 10 columns</p>\n",
       "</div>"
      ],
      "text/plain": [
       "         DAY_OF_WEEK AIRLINE ORIGIN_AIRPORT DESTINATION_AIRPORT  \\\n",
       "0                  4      AS            ANC                 SEA   \n",
       "1                  4      AS            ANC                 SEA   \n",
       "2                  4      DL            ANC                 SEA   \n",
       "3                  4      AS            ANC                 PDX   \n",
       "4                  4      US            ANC                 PHX   \n",
       "...              ...     ...            ...                 ...   \n",
       "2818548            4      B6            HYA                 JFK   \n",
       "2818549            5      B6            HYA                 JFK   \n",
       "2818550            6      B6            HYA                 JFK   \n",
       "2818551            1      B6            HYA                 JFK   \n",
       "2818552            2      B6            HYA                 JFK   \n",
       "\n",
       "         DEPARTURE_TIME  TAXI_OUT  SCHEDULED_TIME  DISTANCE  DEPARTURE_DELAY  \\\n",
       "0                2354.0      21.0           205.0      1448            -11.0   \n",
       "1                  41.0      17.0           204.0      1448             -4.0   \n",
       "2                  31.0      25.0           210.0      1448            -14.0   \n",
       "3                  46.0      11.0           215.0      1542             -4.0   \n",
       "4                 143.0      21.0           323.0      2552             -9.0   \n",
       "...                 ...       ...             ...       ...              ...   \n",
       "2818548          1315.0       9.0            72.0       196              6.0   \n",
       "2818549          1315.0       5.0            72.0       196              6.0   \n",
       "2818550          1308.0      16.0            72.0       196             -1.0   \n",
       "2818551          1305.0       6.0            72.0       196             -4.0   \n",
       "2818552          1251.0      25.0            72.0       196            -18.0   \n",
       "\n",
       "         MONTH  \n",
       "0            1  \n",
       "1            1  \n",
       "2            1  \n",
       "3            1  \n",
       "4            1  \n",
       "...        ...  \n",
       "2818548      6  \n",
       "2818549      6  \n",
       "2818550      6  \n",
       "2818551      6  \n",
       "2818552      6  \n",
       "\n",
       "[2818553 rows x 10 columns]"
      ]
     },
     "execution_count": 140,
     "metadata": {},
     "output_type": "execute_result"
    }
   ],
   "source": [
    "X_train"
   ]
  }
 ],
 "metadata": {
  "kernelspec": {
   "display_name": "Python 3",
   "language": "python",
   "name": "python3"
  },
  "language_info": {
   "codemirror_mode": {
    "name": "ipython",
    "version": 3
   },
   "file_extension": ".py",
   "mimetype": "text/x-python",
   "name": "python",
   "nbconvert_exporter": "python",
   "pygments_lexer": "ipython3",
   "version": "3.8.8"
  }
 },
 "nbformat": 4,
 "nbformat_minor": 5
}
